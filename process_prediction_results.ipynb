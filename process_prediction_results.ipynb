{
 "cells": [
  {
   "cell_type": "code",
   "execution_count": 2,
   "id": "73f4d358",
   "metadata": {},
   "outputs": [],
   "source": [
    "import pandas as pd"
   ]
  },
  {
   "cell_type": "code",
   "execution_count": 23,
   "id": "2f654c58",
   "metadata": {},
   "outputs": [],
   "source": [
    "# Combine the separate prediction results to one result file\n",
    "# load the data\n",
    "thread_0 = pd.read_csv(\"0-test_batch_results-BindMHC2.csv\")\n",
    "thread_1 = pd.read_csv(\"1-test_batch_results-BindMHC2.csv\")\n",
    "thread_2 = pd.read_csv(\"2-test_batch_results-BindMHC2.csv\")\n",
    "thread_3 = pd.read_csv(\"3-test_batch_results-BindMHC2.csv\")\n",
    "batch_2 = pd.read_csv(\"test_batch_2_results-BindMHC2.csv\")\n",
    "\n",
    "# check for overlap (we want none)\n",
    "check_overlap = set(thread_0['Peptides']) & set(thread_1['Peptides']) & set(thread_2['Peptides']) & set(thread_2['Peptides']) & set(batch_2['Peptides'])\n",
    "#print(check_overlap)\n",
    "# combine the datasets\n",
    "batch_1 = pd.concat([thread_0, thread_1, thread_2, thread_3, batch_2])\n",
    "batch_1 = batch_1.reset_index(drop=True)\n",
    "batch_1.to_csv(\"batch_0-80_results-BindMHC2.csv\")"
   ]
  },
  {
   "cell_type": "code",
   "execution_count": 13,
   "id": "69e9ce92",
   "metadata": {},
   "outputs": [
    {
     "name": "stdout",
     "output_type": "stream",
     "text": [
      "set()\n"
     ]
    }
   ],
   "source": [
    "# check for overlap\n",
    "print(set(thread_0['Peptides']) & set(thread_1['Peptides']) & set(thread_2['Peptides']) & set(thread_2['Peptides']) & set(batch_2['Peptides']))"
   ]
  },
  {
   "cell_type": "code",
   "execution_count": null,
   "id": "fe875a33",
   "metadata": {},
   "outputs": [],
   "source": []
  }
 ],
 "metadata": {
  "kernelspec": {
   "display_name": "Python 3 (ipykernel)",
   "language": "python",
   "name": "python3"
  },
  "language_info": {
   "codemirror_mode": {
    "name": "ipython",
    "version": 3
   },
   "file_extension": ".py",
   "mimetype": "text/x-python",
   "name": "python",
   "nbconvert_exporter": "python",
   "pygments_lexer": "ipython3",
   "version": "3.9.16"
  }
 },
 "nbformat": 4,
 "nbformat_minor": 5
}
